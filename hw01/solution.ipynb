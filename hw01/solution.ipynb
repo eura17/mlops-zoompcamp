{
 "cells": [
  {
   "cell_type": "code",
   "execution_count": 1,
   "id": "de4bdfb6-83e3-4ccb-b53b-8e28717e458d",
   "metadata": {},
   "outputs": [],
   "source": [
    "import numpy as np\n",
    "import pandas as pd\n",
    "import matplotlib.pyplot as plt\n",
    "from sklearn.feature_extraction import DictVectorizer\n",
    "from sklearn.linear_model import LinearRegression\n",
    "from sklearn.metrics import mean_squared_error"
   ]
  },
  {
   "cell_type": "code",
   "execution_count": 2,
   "id": "60fcff5b-283a-4fdb-9138-8b7628424d62",
   "metadata": {},
   "outputs": [],
   "source": [
    "jan = pd.read_parquet(\"https://d37ci6vzurychx.cloudfront.net/trip-data/yellow_tripdata_2022-01.parquet\")\n",
    "feb = pd.read_parquet(\"https://d37ci6vzurychx.cloudfront.net/trip-data/yellow_tripdata_2022-02.parquet\")"
   ]
  },
  {
   "cell_type": "code",
   "execution_count": 3,
   "id": "bc187baa-d33f-49d9-a5aa-45f25d6d63f5",
   "metadata": {},
   "outputs": [],
   "source": [
    "def add_duration(df: pd.DataFrame) -> pd.DataFrame:\n",
    "    return df.assign(\n",
    "        duration=lambda df: \n",
    "            (df[\"tpep_dropoff_datetime\"] - df[\"tpep_pickup_datetime\"])\n",
    "            .apply(lambda td: td.total_seconds() / 60)\n",
    "    )"
   ]
  },
  {
   "cell_type": "code",
   "execution_count": 4,
   "id": "e6bba24a-bab3-42c1-a356-ebee07854941",
   "metadata": {},
   "outputs": [],
   "source": [
    "jan = add_duration(jan)\n",
    "feb = add_duration(feb)"
   ]
  },
  {
   "cell_type": "code",
   "execution_count": 5,
   "id": "7d6674b0-7dd0-4b5e-883e-7b5aa33d8cd0",
   "metadata": {},
   "outputs": [
    {
     "data": {
      "text/plain": [
       "46.44530513776802"
      ]
     },
     "execution_count": 5,
     "metadata": {},
     "output_type": "execute_result"
    }
   ],
   "source": [
    "jan[\"duration\"].std()"
   ]
  },
  {
   "cell_type": "code",
   "execution_count": 6,
   "id": "5e9fbb5d-ce5a-4b4d-b82d-2a090ce7e428",
   "metadata": {},
   "outputs": [],
   "source": [
    "def drop_outliers(df: pd.DataFrame) -> pd.DataFrame:\n",
    "    return df.loc[(df[\"duration\"] >= 1) & (df[\"duration\"] <= 60)].reset_index(drop=True)"
   ]
  },
  {
   "cell_type": "code",
   "execution_count": 7,
   "id": "1cbef513-fe4a-4b45-9664-16a1c804b4ad",
   "metadata": {},
   "outputs": [
    {
     "data": {
      "text/plain": [
       "0.9827547930522406"
      ]
     },
     "execution_count": 7,
     "metadata": {},
     "output_type": "execute_result"
    }
   ],
   "source": [
    "len(drop_outliers(jan)) / len(jan)"
   ]
  },
  {
   "cell_type": "code",
   "execution_count": 8,
   "id": "637a71da-715a-4b19-84af-5e28696b8197",
   "metadata": {},
   "outputs": [],
   "source": [
    "jan = drop_outliers(jan)\n",
    "feb = drop_outliers(feb)"
   ]
  },
  {
   "cell_type": "code",
   "execution_count": 9,
   "id": "c0e65b6a-07ed-4306-a855-30d34b21a52b",
   "metadata": {},
   "outputs": [
    {
     "data": {
      "text/plain": [
       "515"
      ]
     },
     "execution_count": 9,
     "metadata": {},
     "output_type": "execute_result"
    }
   ],
   "source": [
    "cat_features = [\"PULocationID\", \"DOLocationID\"]\n",
    "\n",
    "jan_dicts = jan.loc[:, cat_features].astype(str).to_dict(orient=\"records\")\n",
    "dv = DictVectorizer()\n",
    "dv.fit(jan_dicts)\n",
    "len(dv.feature_names_)"
   ]
  },
  {
   "cell_type": "code",
   "execution_count": 10,
   "id": "7e23ad6d-ceb8-495d-87bf-707432bcaaa4",
   "metadata": {},
   "outputs": [
    {
     "data": {
      "text/plain": [
       "6.986190963982251"
      ]
     },
     "execution_count": 10,
     "metadata": {},
     "output_type": "execute_result"
    }
   ],
   "source": [
    "x_train = dv.transform(jan_dicts)\n",
    "y_train = jan[\"duration\"]\n",
    "\n",
    "lr = LinearRegression()\n",
    "lr.fit(x_train, y_train)\n",
    "mean_squared_error(y_train, lr.predict(x_train), squared=False)"
   ]
  },
  {
   "cell_type": "code",
   "execution_count": 11,
   "id": "c1e67360-7978-474c-a516-92dd8d0533eb",
   "metadata": {},
   "outputs": [
    {
     "data": {
      "text/plain": [
       "7.786416487365596"
      ]
     },
     "execution_count": 11,
     "metadata": {},
     "output_type": "execute_result"
    }
   ],
   "source": [
    "feb_dicts = feb.loc[:, cat_features].astype(str).to_dict(orient=\"records\")\n",
    "x_val = dv.transform(feb_dicts)\n",
    "y_val = feb[\"duration\"]\n",
    "\n",
    "mean_squared_error(y_val, lr.predict(x_val), squared=False)"
   ]
  },
  {
   "cell_type": "code",
   "execution_count": null,
   "id": "f6fef962-3e54-40e9-8451-7319c95f270b",
   "metadata": {},
   "outputs": [],
   "source": []
  }
 ],
 "metadata": {
  "kernelspec": {
   "display_name": "Python3.9 (mlops)",
   "language": "python",
   "name": "mlops"
  },
  "language_info": {
   "codemirror_mode": {
    "name": "ipython",
    "version": 3
   },
   "file_extension": ".py",
   "mimetype": "text/x-python",
   "name": "python",
   "nbconvert_exporter": "python",
   "pygments_lexer": "ipython3",
   "version": "3.9.16"
  },
  "widgets": {
   "application/vnd.jupyter.widget-state+json": {
    "state": {},
    "version_major": 2,
    "version_minor": 0
   }
  }
 },
 "nbformat": 4,
 "nbformat_minor": 5
}
