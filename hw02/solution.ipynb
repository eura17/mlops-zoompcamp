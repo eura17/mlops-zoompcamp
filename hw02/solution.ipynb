{
 "cells": [
  {
   "cell_type": "code",
   "execution_count": 1,
   "id": "bfc6e936-3d7a-476a-aec3-5a4858e92fec",
   "metadata": {},
   "outputs": [
    {
     "name": "stdout",
     "output_type": "stream",
     "text": [
      "\u001b[33mThe currently activated Python version 3.8.10 is not supported by the project (>=3.9,<3.12).\n",
      "Trying to find and use a compatible version.\u001b[39m \n",
      "Using \u001b[36mpython3.9\u001b[39m (3.9.16)\n",
      "mlflow, version 2.3.2\n"
     ]
    }
   ],
   "source": [
    "! poetry run mlflow --version"
   ]
  },
  {
   "cell_type": "code",
   "execution_count": 3,
   "id": "f333899e-d7e3-4787-8234-6cc858f0c621",
   "metadata": {},
   "outputs": [
    {
     "name": "stdout",
     "output_type": "stream",
     "text": [
      "\u001b[33mThe currently activated Python version 3.8.10 is not supported by the project (>=3.9,<3.12).\n",
      "Trying to find and use a compatible version.\u001b[39m \n",
      "Using \u001b[36mpython3.9\u001b[39m (3.9.16)\n"
     ]
    }
   ],
   "source": [
    "! poetry run python homework/preprocess_data.py --raw_data_path data/raw --dest_path data/preprocessed"
   ]
  },
  {
   "cell_type": "code",
   "execution_count": 4,
   "id": "fd4bc208-48c7-4259-9950-39415ce0f506",
   "metadata": {},
   "outputs": [
    {
     "name": "stdout",
     "output_type": "stream",
     "text": [
      "total 7.0M\n",
      "-rw-r--r-- 1 babkin.a ababkin 151K Jun  1 18:37 dv.pkl\n",
      "-rw-r--r-- 1 babkin.a ababkin 2.6M Jun  1 18:37 test.pkl\n",
      "-rw-r--r-- 1 babkin.a ababkin 2.1M Jun  1 18:37 train.pkl\n",
      "-rw-r--r-- 1 babkin.a ababkin 2.3M Jun  1 18:37 val.pkl\n"
     ]
    }
   ],
   "source": [
    "! ls -lh data/preprocessed/"
   ]
  },
  {
   "cell_type": "code",
   "execution_count": 6,
   "id": "4a13668f-5b34-4325-9233-133270ed45b2",
   "metadata": {},
   "outputs": [
    {
     "name": "stdout",
     "output_type": "stream",
     "text": [
      "\u001b[33mThe currently activated Python version 3.8.10 is not supported by the project (>=3.9,<3.12).\n",
      "Trying to find and use a compatible version.\u001b[39m \n",
      "Using \u001b[36mpython3.9\u001b[39m (3.9.16)\n",
      "2023/06/01 18:38:52 INFO mlflow.tracking.fluent: Experiment with name 'hw02' does not exist. Creating a new experiment.\n",
      "2023/06/01 18:39:02 WARNING mlflow.utils.autologging_utils: MLflow autologging encountered a warning: \"/home/babkin.a/.cache/pypoetry/virtualenvs/mlops-zoompcamp-y0wmy2na-py3.9/lib/python3.9/site-packages/_distutils_hack/__init__.py:33: UserWarning: Setuptools is replacing distutils.\"\n"
     ]
    }
   ],
   "source": [
    "! poetry run python homework/train.py --data_path data/preprocessed"
   ]
  },
  {
   "cell_type": "code",
   "execution_count": 8,
   "id": "f8b19bc9-6c9a-40fd-8eef-d827fe0640d4",
   "metadata": {},
   "outputs": [
    {
     "name": "stdout",
     "output_type": "stream",
     "text": [
      "\u001b[33mThe currently activated Python version 3.8.10 is not supported by the project (>=3.9,<3.12).\n",
      "Trying to find and use a compatible version.\u001b[39m \n",
      "Using \u001b[36mpython3.9\u001b[39m (3.9.16)\n",
      "2023/06/01 18:43:54 INFO mlflow.tracking.fluent: Experiment with name 'random-forest-hyperopt' does not exist. Creating a new experiment.\n",
      "\u001b[32m[I 2023-06-01 18:43:54,490]\u001b[0m A new study created in memory with name: no-name-4ff24b54-5887-48ea-87ad-54899a49877b\u001b[0m\n",
      "\u001b[32m[I 2023-06-01 18:43:55,021]\u001b[0m Trial 0 finished with value: 2.451379690825458 and parameters: {'n_estimators': 25, 'max_depth': 20, 'min_samples_split': 8, 'min_samples_leaf': 3}. Best is trial 0 with value: 2.451379690825458.\u001b[0m\n",
      "\u001b[32m[I 2023-06-01 18:43:55,160]\u001b[0m Trial 1 finished with value: 2.4667366020368333 and parameters: {'n_estimators': 16, 'max_depth': 4, 'min_samples_split': 2, 'min_samples_leaf': 4}. Best is trial 0 with value: 2.451379690825458.\u001b[0m\n",
      "\u001b[32m[I 2023-06-01 18:43:55,660]\u001b[0m Trial 2 finished with value: 2.449827329704216 and parameters: {'n_estimators': 34, 'max_depth': 15, 'min_samples_split': 2, 'min_samples_leaf': 4}. Best is trial 2 with value: 2.449827329704216.\u001b[0m\n",
      "\u001b[32m[I 2023-06-01 18:43:55,932]\u001b[0m Trial 3 finished with value: 2.460983516558473 and parameters: {'n_estimators': 44, 'max_depth': 5, 'min_samples_split': 3, 'min_samples_leaf': 1}. Best is trial 2 with value: 2.449827329704216.\u001b[0m\n",
      "\u001b[32m[I 2023-06-01 18:43:56,211]\u001b[0m Trial 4 finished with value: 2.453877262701052 and parameters: {'n_estimators': 22, 'max_depth': 11, 'min_samples_split': 5, 'min_samples_leaf': 2}. Best is trial 2 with value: 2.449827329704216.\u001b[0m\n",
      "\u001b[32m[I 2023-06-01 18:43:56,402]\u001b[0m Trial 5 finished with value: 2.4720122094960733 and parameters: {'n_estimators': 35, 'max_depth': 3, 'min_samples_split': 4, 'min_samples_leaf': 2}. Best is trial 2 with value: 2.449827329704216.\u001b[0m\n",
      "\u001b[32m[I 2023-06-01 18:43:56,817]\u001b[0m Trial 6 finished with value: 2.4516421799356767 and parameters: {'n_estimators': 28, 'max_depth': 16, 'min_samples_split': 3, 'min_samples_leaf': 3}. Best is trial 2 with value: 2.449827329704216.\u001b[0m\n",
      "\u001b[32m[I 2023-06-01 18:43:57,032]\u001b[0m Trial 7 finished with value: 2.5374040268274087 and parameters: {'n_estimators': 34, 'max_depth': 1, 'min_samples_split': 7, 'min_samples_leaf': 1}. Best is trial 2 with value: 2.449827329704216.\u001b[0m\n",
      "\u001b[32m[I 2023-06-01 18:43:57,416]\u001b[0m Trial 8 finished with value: 2.455971238567075 and parameters: {'n_estimators': 12, 'max_depth': 19, 'min_samples_split': 10, 'min_samples_leaf': 4}. Best is trial 2 with value: 2.449827329704216.\u001b[0m\n",
      "\u001b[32m[I 2023-06-01 18:43:57,561]\u001b[0m Trial 9 finished with value: 2.486106021576535 and parameters: {'n_estimators': 22, 'max_depth': 2, 'min_samples_split': 8, 'min_samples_leaf': 2}. Best is trial 2 with value: 2.449827329704216.\u001b[0m\n"
     ]
    }
   ],
   "source": [
    "! poetry run python homework/hpo.py --data_path data/preprocessed"
   ]
  },
  {
   "cell_type": "code",
   "execution_count": 13,
   "id": "a74a6c2f-0e12-42c6-b530-20c826318144",
   "metadata": {},
   "outputs": [
    {
     "name": "stdout",
     "output_type": "stream",
     "text": [
      "\u001b[33mThe currently activated Python version 3.8.10 is not supported by the project (>=3.9,<3.12).\n",
      "Trying to find and use a compatible version.\u001b[39m \n",
      "Using \u001b[36mpython3.9\u001b[39m (3.9.16)\n",
      "2023/06/01 18:54:09 INFO mlflow.tracking.fluent: Experiment with name 'random-forest-best-models-1' does not exist. Creating a new experiment.\n",
      "2023/06/01 18:54:11 WARNING mlflow.utils.autologging_utils: MLflow autologging encountered a warning: \"/home/babkin.a/.cache/pypoetry/virtualenvs/mlops-zoompcamp-y0wmy2na-py3.9/lib/python3.9/site-packages/_distutils_hack/__init__.py:33: UserWarning: Setuptools is replacing distutils.\"\n",
      "Successfully registered model 'nyc-taxi-rf'.\n",
      "2023/06/01 18:54:20 INFO mlflow.tracking._model_registry.client: Waiting up to 300 seconds for model version to finish creation. Model name: nyc-taxi-rf, version 1\n",
      "Created version '1' of model 'nyc-taxi-rf'.\n"
     ]
    }
   ],
   "source": [
    "! poetry run python homework/register_model.py --data_path data/preprocessed"
   ]
  },
  {
   "cell_type": "code",
   "execution_count": null,
   "id": "7f039927-b3fa-4b65-9a9e-b5502c246d45",
   "metadata": {},
   "outputs": [],
   "source": []
  }
 ],
 "metadata": {
  "kernelspec": {
   "display_name": "Python3.9 (mlops)",
   "language": "python",
   "name": "mlops"
  },
  "language_info": {
   "codemirror_mode": {
    "name": "ipython",
    "version": 3
   },
   "file_extension": ".py",
   "mimetype": "text/x-python",
   "name": "python",
   "nbconvert_exporter": "python",
   "pygments_lexer": "ipython3",
   "version": "3.9.16"
  },
  "widgets": {
   "application/vnd.jupyter.widget-state+json": {
    "state": {},
    "version_major": 2,
    "version_minor": 0
   }
  }
 },
 "nbformat": 4,
 "nbformat_minor": 5
}
